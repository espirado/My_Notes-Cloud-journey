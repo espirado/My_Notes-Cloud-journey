{
 "cells": [
  {
   "cell_type": "code",
   "execution_count": null,
   "id": "f4d747ea-24c1-4cd7-9409-b754ffd9cccb",
   "metadata": {},
   "outputs": [],
   "source": [
    "from collection import deque\n",
    "\n",
    "class queue:\n",
    "    def __init__(self):\n",
    "    self.buffer = deque()\n",
    "\n",
    "    def enqueue(self,value):\n",
    "        self.buffer.appendleft(value)\n",
    "\n",
    "    def dequeue(self):\n",
    "        if len(self.buffer) == 0:\n",
    "            print(\"queue is empty\")\n",
    "            return \n",
    "         return self.buffer.pop()\n",
    "    def size(self):\n",
    "        return len(self.buffer) \n",
    "\n",
    "    def isempty(self):\n",
    "        return len(self.buffer) == 0\n",
    "\n",
    "   food_order = queue\n",
    "\n",
    "   def place_orders(orders):\n",
    "       for order in orders:\n",
    "           print(\"placing order for \":,order)\n",
    "           food_order_queue.enqueue(order)\n",
    "           time.sleep(0.5)\n",
    "\n",
    "def serve_orders():\n",
    "    time.sleep(1)\n",
    "    while True:\n",
    "        order = food_order_queue.dequeue()\n",
    "        print(\"Now serving\",order)\n",
    "        time.sleep(o.5)\n",
    "if __name__ == '__main__':\n",
    "    orders = ['pizza','samosa','pasta','biryani','burger']\n",
    "    t1 = threading.Thread(target=place_orders, args=(orders,))\n",
    "    t2 = threading.Thread(target=serve_orders)\n",
    "\n",
    "    t1.start()\n",
    "    t2.start()\n",
    "\n",
    "        \n",
    "    \n",
    "    \n",
    "\n"
   ]
  }
 ],
 "metadata": {
  "kernelspec": {
   "display_name": "Python 3 (ipykernel)",
   "language": "python",
   "name": "python3"
  },
  "language_info": {
   "codemirror_mode": {
    "name": "ipython",
    "version": 3
   },
   "file_extension": ".py",
   "mimetype": "text/x-python",
   "name": "python",
   "nbconvert_exporter": "python",
   "pygments_lexer": "ipython3",
   "version": "3.12.4"
  }
 },
 "nbformat": 4,
 "nbformat_minor": 5
}
