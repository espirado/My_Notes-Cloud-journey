{
 "cells": [
  {
   "cell_type": "markdown",
   "id": "0263b975-c0c4-462b-821f-a2885ac08ba6",
   "metadata": {},
   "source": [
    "LIFO - last in First out . push/pop:o(1) search element by value: 0(n)"
   ]
  },
  {
   "cell_type": "markdown",
   "id": "eb355e7e-78aa-4a42-8765-f56aa42d26d4",
   "metadata": {},
   "source": [
    "Write a function in python that can reverse a string using stack data structure. Use Stack class from the tutorial.\n",
    "reverse_string(\"We will conquere COVID-19\") should return \"91-DIVOC ereuqnoc lliw eW\""
   ]
  },
  {
   "cell_type": "code",
   "execution_count": 1,
   "id": "d4483a6c-8e37-4591-bb93-1942ebd2ebd3",
   "metadata": {},
   "outputs": [
    {
     "ename": "ModuleNotFoundError",
     "evalue": "No module named 'collection'",
     "output_type": "error",
     "traceback": [
      "\u001b[0;31m---------------------------------------------------------------------------\u001b[0m",
      "\u001b[0;31mModuleNotFoundError\u001b[0m                       Traceback (most recent call last)",
      "Cell \u001b[0;32mIn[1], line 1\u001b[0m\n\u001b[0;32m----> 1\u001b[0m \u001b[38;5;28;01mfrom\u001b[39;00m \u001b[38;5;21;01mcollection\u001b[39;00m \u001b[38;5;28;01mimport\u001b[39;00m deque \n",
      "\u001b[0;31mModuleNotFoundError\u001b[0m: No module named 'collection'"
     ]
    }
   ],
   "source": [
    "from collection import deque \n",
    "\n",
    "class stack:\n",
    "    def __init__(self):\n",
    "        self.container = deque()\n",
    "    def push(self, val):\n",
    "        self.container.append(val)\n",
    "\n",
    "    def pop(self):\n",
    "        return self.container.pop()\n",
    "\n",
    "    def peek(self):\n",
    "        return self.container[-1]\n",
    "\n",
    "    def is_empty(self):\n",
    "        return len(self.container) == 0\n",
    "\n",
    "    def size(self):\n",
    "        return len(self.container)\n",
    "\n",
    "\n",
    "def reverse_string(s):\n",
    "    stack = Stack()\n",
    "\n",
    "    for ch in s:\n",
    "        stack.push(ch)\n",
    "\n",
    "    rstr = ''\n",
    "    while stack.size()!=0:\n",
    "        rstr += stack.pop()\n",
    "\n",
    "    return rstr\n",
    "\n",
    "\n",
    "if __name__ == '__main__':\n",
    "    print(reverse_string(\"We will conquere COVI-19\"))\n",
    "    print(reverse_string(\"I am the king\"))"
   ]
  },
  {
   "cell_type": "markdown",
   "id": "8c368295-e34e-4dfe-8504-73b241f188ee",
   "metadata": {},
   "source": [
    "Write a function in python that checks if paranthesis in the string are balanced or not. Possible parantheses are \"{}',\"()\" or \"[]\""
   ]
  },
  {
   "cell_type": "code",
   "execution_count": null,
   "id": "19c77d0c-bb96-4ee1-9a46-fdec4dab2563",
   "metadata": {},
   "outputs": [],
   "source": [
    "from collections import deque\n",
    "\n",
    "class Stack:\n",
    "    def __init__(self):\n",
    "        self.container = deque()\n",
    "\n",
    "    def push(self, val):\n",
    "        self.container.append(val)\n",
    "\n",
    "    def pop(self):\n",
    "        return self.container.pop()\n",
    "\n",
    "    def peek(self):\n",
    "        return self.container[-1]\n",
    "\n",
    "    def is_empty(self):\n",
    "        return len(self.container) == 0\n",
    "\n",
    "    def size(self):\n",
    "        return len(self.container)\n",
    "\n",
    "def is_match(ch1, ch2):\n",
    "    match_dict = {\n",
    "        ')': '(',\n",
    "        ']': '[',\n",
    "        '}': '{'\n",
    "    }\n",
    "    return match_dict[ch1] == ch2\n",
    "\n",
    "\n",
    "def is_balanced(s):\n",
    "    stack = Stack()\n",
    "    for ch in s:\n",
    "        if ch=='(' or ch=='{' or ch == '[':\n",
    "            stack.push(ch)\n",
    "        if ch==')' or ch=='}' or ch == ']':\n",
    "            if stack.size()==0:\n",
    "                return False\n",
    "            if not is_match(ch,stack.pop()):\n",
    "                return False\n",
    "\n",
    "    return stack.size()==0\n",
    "\n",
    "\n",
    "if __name__ == '__main__':\n",
    "    print(is_balanced(\"({a+b})\"))\n",
    "    print(is_balanced(\"))((a+b}{\"))\n",
    "    print(is_balanced(\"((a+b))\"))\n",
    "    print(is_balanced(\"((a+g))\"))\n",
    "    print(is_balanced(\"))\"))\n",
    "    print(is_balanced(\"[a+b]*(x+2y)*{gg+kk}\"))"
   ]
  }
 ],
 "metadata": {
  "kernelspec": {
   "display_name": "Python 3 (ipykernel)",
   "language": "python",
   "name": "python3"
  },
  "language_info": {
   "codemirror_mode": {
    "name": "ipython",
    "version": 3
   },
   "file_extension": ".py",
   "mimetype": "text/x-python",
   "name": "python",
   "nbconvert_exporter": "python",
   "pygments_lexer": "ipython3",
   "version": "3.12.4"
  }
 },
 "nbformat": 4,
 "nbformat_minor": 5
}
