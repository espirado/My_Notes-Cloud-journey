{
 "cells": [
  {
   "cell_type": "markdown",
   "id": "5d864821-e8dc-4d39-9c34-88dae7e81e45",
   "metadata": {},
   "source": [
    "(1) nyc_weather.csv contains new york city weather for first few days in the month of January. Write a program that can answer following,\n",
    "\n",
    "  (a) What was the average temperature in first week of Jan\n",
    "\n",
    "  (b) What was the maximum temperature in first 10 days of Jan\n",
    "\n",
    "  Figure out data structure that is best for this problem"
   ]
  },
  {
   "cell_type": "code",
   "execution_count": 1,
   "id": "88698459-6cba-4f77-8cd2-dfdbbfe93c1a",
   "metadata": {},
   "outputs": [
    {
     "ename": "FileNotFoundError",
     "evalue": "[Errno 2] No such file or directory: 'nyc_weather.csv'",
     "output_type": "error",
     "traceback": [
      "\u001b[0;31m---------------------------------------------------------------------------\u001b[0m",
      "\u001b[0;31mFileNotFoundError\u001b[0m                         Traceback (most recent call last)",
      "Cell \u001b[0;32mIn[1], line 3\u001b[0m\n\u001b[1;32m      1\u001b[0m arr \u001b[38;5;241m=\u001b[39m []\n\u001b[0;32m----> 3\u001b[0m \u001b[38;5;28;01mwith\u001b[39;00m \u001b[38;5;28;43mopen\u001b[39;49m\u001b[43m \u001b[49m\u001b[43m(\u001b[49m\u001b[38;5;124;43m\"\u001b[39;49m\u001b[38;5;124;43mnyc_weather.csv\u001b[39;49m\u001b[38;5;124;43m\"\u001b[39;49m\u001b[43m \u001b[49m\u001b[43m,\u001b[49m\u001b[38;5;124;43m\"\u001b[39;49m\u001b[38;5;124;43mr\u001b[39;49m\u001b[38;5;124;43m\"\u001b[39;49m\u001b[43m)\u001b[49m \u001b[38;5;28;01mas\u001b[39;00m f:\n\u001b[1;32m      4\u001b[0m     \u001b[38;5;28;01mfor\u001b[39;00m line \u001b[38;5;129;01min\u001b[39;00m f:\n\u001b[1;32m      5\u001b[0m         tokens \u001b[38;5;241m=\u001b[39m line\u001b[38;5;241m.\u001b[39msplit(\u001b[38;5;124m'\u001b[39m\u001b[38;5;124m,\u001b[39m\u001b[38;5;124m'\u001b[39m)\n",
      "File \u001b[0;32m/opt/homebrew/Cellar/jupyterlab/4.2.3/libexec/lib/python3.12/site-packages/IPython/core/interactiveshell.py:324\u001b[0m, in \u001b[0;36m_modified_open\u001b[0;34m(file, *args, **kwargs)\u001b[0m\n\u001b[1;32m    317\u001b[0m \u001b[38;5;28;01mif\u001b[39;00m file \u001b[38;5;129;01min\u001b[39;00m {\u001b[38;5;241m0\u001b[39m, \u001b[38;5;241m1\u001b[39m, \u001b[38;5;241m2\u001b[39m}:\n\u001b[1;32m    318\u001b[0m     \u001b[38;5;28;01mraise\u001b[39;00m \u001b[38;5;167;01mValueError\u001b[39;00m(\n\u001b[1;32m    319\u001b[0m         \u001b[38;5;124mf\u001b[39m\u001b[38;5;124m\"\u001b[39m\u001b[38;5;124mIPython won\u001b[39m\u001b[38;5;124m'\u001b[39m\u001b[38;5;124mt let you open fd=\u001b[39m\u001b[38;5;132;01m{\u001b[39;00mfile\u001b[38;5;132;01m}\u001b[39;00m\u001b[38;5;124m by default \u001b[39m\u001b[38;5;124m\"\u001b[39m\n\u001b[1;32m    320\u001b[0m         \u001b[38;5;124m\"\u001b[39m\u001b[38;5;124mas it is likely to crash IPython. If you know what you are doing, \u001b[39m\u001b[38;5;124m\"\u001b[39m\n\u001b[1;32m    321\u001b[0m         \u001b[38;5;124m\"\u001b[39m\u001b[38;5;124myou can use builtins\u001b[39m\u001b[38;5;124m'\u001b[39m\u001b[38;5;124m open.\u001b[39m\u001b[38;5;124m\"\u001b[39m\n\u001b[1;32m    322\u001b[0m     )\n\u001b[0;32m--> 324\u001b[0m \u001b[38;5;28;01mreturn\u001b[39;00m \u001b[43mio_open\u001b[49m\u001b[43m(\u001b[49m\u001b[43mfile\u001b[49m\u001b[43m,\u001b[49m\u001b[43m \u001b[49m\u001b[38;5;241;43m*\u001b[39;49m\u001b[43margs\u001b[49m\u001b[43m,\u001b[49m\u001b[43m \u001b[49m\u001b[38;5;241;43m*\u001b[39;49m\u001b[38;5;241;43m*\u001b[39;49m\u001b[43mkwargs\u001b[49m\u001b[43m)\u001b[49m\n",
      "\u001b[0;31mFileNotFoundError\u001b[0m: [Errno 2] No such file or directory: 'nyc_weather.csv'"
     ]
    }
   ],
   "source": [
    "arr = []\n",
    "\n",
    "with open (\"nyc_weather.csv\" ,\"r\") as f:\n",
    "    for line in f:\n",
    "        tokens = line.split(',')\n",
    "        try:\n",
    "            temperature = init(token[1])\n",
    "            arr.append(temperature)\n",
    "        except:\n",
    "            print(\"Invalid temperature.Ignore the row\")"
   ]
  },
  {
   "cell_type": "code",
   "execution_count": null,
   "id": "660b0b24-97fb-494e-a06d-6808426d18d9",
   "metadata": {},
   "outputs": [],
   "source": [
    "# what was the average temperature of the first week\n",
    "\n",
    "\n",
    "sum(arr[0,7])/len(arr[0,7])"
   ]
  },
  {
   "cell_type": "markdown",
   "id": "b861d3c0-e06f-4715-ad97-93096bfe47dc",
   "metadata": {},
   "source": [
    "#max temperature first 10 days \n",
    "\n",
    "max(arr[0,10])"
   ]
  },
  {
   "cell_type": "markdown",
   "id": "e778fff5-55de-4077-b0f6-942ef365decf",
   "metadata": {},
   "source": [
    "We used list here since we only wanted to access elements of temperature. What if we want to access for a specific data and what if we have a number of years of nyc data."
   ]
  },
  {
   "cell_type": "code",
   "execution_count": null,
   "id": "d229aa76-98d3-45dc-bdf0-ec4f13a49a7b",
   "metadata": {},
   "outputs": [],
   "source": [
    "weather_dict={}\n",
    "\n",
    "with open(\"nyc_weather.csv\",\"r\") as f:\n",
    "    for line in f:\n",
    "        tokens = line.split(',')\n",
    "        days = tokens[0]\n",
    "        try:\n",
    "            temperature = int(tokens[1])\n",
    "            weather_dict[day] = temperature \n",
    "        except ValueError:\n",
    "            print('Invalid temperature in row')"
   ]
  },
  {
   "cell_type": "markdown",
   "id": "24a44dbc-9af6-43ef-abd3-c25b6bf98cc0",
   "metadata": {},
   "source": [
    "The best data structure to use here was a dictionary (internally a hash table) because we wanted to know temperature for specific day, requiring key, value pair access where you can look up an element by day using O(1) complexity"
   ]
  },
  {
   "cell_type": "markdown",
   "id": "216c6c95-faa0-437d-8a5a-6bd836f00ed9",
   "metadata": {},
   "source": [
    "poem.txt Contains famous poem \"Road not taken\" by poet Robert Frost. You have to read this file in python and print every word and its count as show below. Think about the best data structure that you can use to solve this problem and figure out why you selected that specific data structure."
   ]
  },
  {
   "cell_type": "code",
   "execution_count": null,
   "id": "435637cb-b73a-407b-80f1-26d32de24dbf",
   "metadata": {},
   "outputs": [],
   "source": [
    "with open('poem.txt','r')as f:\n",
    "    for line in f:\n",
    "        print(line)"
   ]
  },
  {
   "cell_type": "code",
   "execution_count": null,
   "id": "512b6528-4399-4c10-93a4-b9dc19e6ce04",
   "metadata": {},
   "outputs": [],
   "source": [
    "#count words \n",
    "\n",
    "word_count={}\n",
    "\n",
    "with open('poem.txt','r')as f:\n",
    "    for line in f:\n",
    "        tokens = line.split('')\n",
    "        for token in tokens:\n",
    "             token = token.strip().lower()\n",
    "            if token in word_count:\n",
    "                word_count[token]+=1\n",
    "            else:\n",
    "                word_count[token]=1"
   ]
  },
  {
   "cell_type": "code",
   "execution_count": 2,
   "id": "cacaec72-e066-4aa6-9e7d-ec8390d75697",
   "metadata": {},
   "outputs": [
    {
     "name": "stdout",
     "output_type": "stream",
     "text": [
      "Table after insertions: [(10, 'A'), (20, 'B'), (30, 'C'), None, None, None, None, None, None, None]\n",
      "Search for key 20: B\n",
      "Search for key 40: None\n",
      "Table after deleting key 20: [(10, 'A'), None, (30, 'C'), None, None, None, None, None, None, None]\n",
      "Search for key 20: None\n"
     ]
    }
   ],
   "source": [
    "class HashTable:\n",
    "    def __init__(self, size):\n",
    "        self.size = size\n",
    "        self.table = [None] * size\n",
    "\n",
    "    def hash_function(self, key):\n",
    "        return key % self.size\n",
    "\n",
    "    def insert(self, key, value):\n",
    "        index = self.hash_function(key)\n",
    "        original_index = index\n",
    "        \n",
    "        while self.table[index] is not None:\n",
    "            # Linear probing: move to the next index\n",
    "            index = (index + 1) % self.size\n",
    "            # If we have traversed the entire table, raise an error\n",
    "            if index == original_index:\n",
    "                raise Exception(\"Hash table is full\")\n",
    "\n",
    "        self.table[index] = (key, value)\n",
    "\n",
    "    def search(self, key):\n",
    "        index = self.hash_function(key)\n",
    "        original_index = index\n",
    "\n",
    "        while self.table[index] is not None:\n",
    "            if self.table[index][0] == key:\n",
    "                return self.table[index][1]\n",
    "            index = (index + 1) % self.size\n",
    "            if index == original_index:\n",
    "                return None  # Key not found after a full traversal\n",
    "\n",
    "        return None\n",
    "\n",
    "    def delete(self, key):\n",
    "        index = self.hash_function(key)\n",
    "        original_index = index\n",
    "\n",
    "        while self.table[index] is not None:\n",
    "            if self.table[index][0] == key:\n",
    "                # Mark the slot as deleted\n",
    "                self.table[index] = None\n",
    "                return\n",
    "            index = (index + 1) % self.size\n",
    "            if index == original_index:\n",
    "                return  # Key not found after a full traversal\n",
    "\n",
    "        return None\n",
    "\n",
    "    def __str__(self):\n",
    "        return str(self.table)\n",
    "\n",
    "# Example Usage\n",
    "hash_table = HashTable(10)\n",
    "hash_table.insert(10, 'A')\n",
    "hash_table.insert(20, 'B')\n",
    "hash_table.insert(30, 'C')\n",
    "\n",
    "print(\"Table after insertions:\", hash_table)\n",
    "\n",
    "print(\"Search for key 20:\", hash_table.search(20))  # Should return 'B'\n",
    "print(\"Search for key 40:\", hash_table.search(40))  # Should return None\n",
    "\n",
    "hash_table.delete(20)\n",
    "print(\"Table after deleting key 20:\", hash_table)\n",
    "\n",
    "print(\"Search for key 20:\", hash_table.search(20))  # Should return None\n"
   ]
  },
  {
   "cell_type": "code",
   "execution_count": 3,
   "id": "f5edebac-a14a-4a30-9964-d1add5e9b58a",
   "metadata": {},
   "outputs": [
    {
     "name": "stdout",
     "output_type": "stream",
     "text": [
      "Session Cache after insertions: [None, None, None, (123, 'SessionDataA'), (234, 'SessionDataB'), (345, 'SessionDataC'), None, None, None, None]\n",
      "Search for user ID 234: SessionDataB\n",
      "Search for user ID 456: None\n",
      "Session Cache after deleting user ID 234: [None, None, None, (123, 'SessionDataA'), None, (345, 'SessionDataC'), None, None, None, None]\n",
      "Search for user ID 234: None\n"
     ]
    }
   ],
   "source": [
    "# liner probbing in session management \n",
    "class SessionCache:\n",
    "    def __init__(self, size):\n",
    "        self.size = size\n",
    "        self.table = [None] * size\n",
    "\n",
    "    def hash_function(self, user_id):\n",
    "        return user_id % self.size\n",
    "\n",
    "    def insert(self, user_id, session_data):\n",
    "        index = self.hash_function(user_id)\n",
    "        original_index = index\n",
    "        \n",
    "        while self.table[index] is not None:\n",
    "            index = (index + 1) % self.size\n",
    "            if index == original_index:\n",
    "                raise Exception(\"Session cache is full\")\n",
    "\n",
    "        self.table[index] = (user_id, session_data)\n",
    "\n",
    "    def search(self, user_id):\n",
    "        index = self.hash_function(user_id)\n",
    "        original_index = index\n",
    "\n",
    "        while self.table[index] is not None:\n",
    "            if self.table[index][0] == user_id:\n",
    "                return self.table[index][1]\n",
    "            index = (index + 1) % self.size\n",
    "            if index == original_index:\n",
    "                return None  # User session not found after full traversal\n",
    "\n",
    "        return None\n",
    "\n",
    "    def delete(self, user_id):\n",
    "        index = self.hash_function(user_id)\n",
    "        original_index = index\n",
    "\n",
    "        while self.table[index] is not None:\n",
    "            if self.table[index][0] == user_id:\n",
    "                self.table[index] = None\n",
    "                return\n",
    "            index = (index + 1) % self.size\n",
    "            if index == original_index:\n",
    "                return  # User session not found after full traversal\n",
    "\n",
    "        return None\n",
    "\n",
    "    def __str__(self):\n",
    "        return str(self.table)\n",
    "\n",
    "# Example Usage\n",
    "session_cache = SessionCache(10)\n",
    "session_cache.insert(123, 'SessionDataA')\n",
    "session_cache.insert(234, 'SessionDataB')\n",
    "session_cache.insert(345, 'SessionDataC')\n",
    "\n",
    "print(\"Session Cache after insertions:\", session_cache)\n",
    "\n",
    "print(\"Search for user ID 234:\", session_cache.search(234))  # Should return 'SessionDataB'\n",
    "print(\"Search for user ID 456:\", session_cache.search(456))  # Should return None\n",
    "\n",
    "session_cache.delete(234)\n",
    "print(\"Session Cache after deleting user ID 234:\", session_cache)\n",
    "\n",
    "print(\"Search for user ID 234:\", session_cache.search(234))  # Should return None\n"
   ]
  },
  {
   "cell_type": "markdown",
   "id": "6c4b8cc2-3e35-4651-9965-4a0a328ed614",
   "metadata": {},
   "source": [
    "__init__(self, size): This constructor initializes the hash table with a given size. The size parameter determines the number of slots in the hash table. The table attribute is initialized as a list of None values, with length equal to size\n",
    "\n",
    "\n",
    "hash_function(self, user_id): This method calculates the index for a given user_id using the modulo operation. It ensures that the index is within the bounds of the hash table size\n",
    "\n",
    "insert(self, user_id, session_data): This method inserts a new key-value pair (user_id and session_data) into the hash table.\n",
    "It calculates the initial index using the hash function.\n",
    "If the calculated index is already occupied (collision), it performs linear probing by moving to the next index (index + 1). The % self.size ensures the index wraps around if it exceeds the table size.\n",
    "If it encounters the same index again (indicating the table is full), it raises an exception.\n",
    "Finally, it inserts the (user_id, session_data) tuple into the table at the found index.\n",
    "\n",
    "search(self, user_id): This method searches for the session data associated with a given user_id.\n",
    "It calculates the initial index using the hash function.\n",
    "If the slot at the calculated index is not None, it checks if the user_id matches. If it does, it returns the associated session data.\n",
    "If not, it performs linear probing to find the next occupied slot and continues checking until it finds the user_id or returns to the original index (indicating the user_id is not present).\n",
    "If the slot at the calculated index is None or it completes a full traversal, it returns None indicating the user_id was not found.\n",
    "\n",
    "\n",
    "delete(self, user_id): This method deletes the session data associated with a given user_id.\n",
    "It calculates the initial index using the hash function.\n",
    "If the slot at the calculated index is not None, it checks if the user_id matches. If it does, it sets the slot to None to mark it as deleted.\n",
    "If not, it performs linear probing to find the next occupied slot and continues checking until it finds the user_id or returns to the original index (indicating the user_id is not present).\n",
    "If it completes a full traversal without finding the user_id, it returns without doing anything.\n",
    "\n",
    "__str__(self): This method returns the string representation of the hash table, allowing for easy visualization of the table's current state"
   ]
  },
  {
   "cell_type": "code",
   "execution_count": null,
   "id": "96b86572-0d8c-4c3b-9652-1341fd936bec",
   "metadata": {},
   "outputs": [],
   "source": []
  }
 ],
 "metadata": {
  "kernelspec": {
   "display_name": "Python 3 (ipykernel)",
   "language": "python",
   "name": "python3"
  },
  "language_info": {
   "codemirror_mode": {
    "name": "ipython",
    "version": 3
   },
   "file_extension": ".py",
   "mimetype": "text/x-python",
   "name": "python",
   "nbconvert_exporter": "python",
   "pygments_lexer": "ipython3",
   "version": "3.12.4"
  }
 },
 "nbformat": 4,
 "nbformat_minor": 5
}
